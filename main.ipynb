{
 "cells": [
  {
   "cell_type": "code",
   "execution_count": 3,
   "id": "3de0afd0",
   "metadata": {},
   "outputs": [],
   "source": [
    "from qiskit import QuantumCircuit\n",
    "from qiskit.quantum_info import Statevector\n",
    "from qiskit_ibm_runtime.fake_provider import *\n",
    "from qiskit.transpiler.preset_passmanagers import generate_preset_pass_manager\n",
    "\n",
    "from qiskit.converters import circuit_to_dag, dag_to_circuit\n",
    "from collections import OrderedDict\n",
    "import numpy as np"
   ]
  },
  {
   "cell_type": "code",
   "execution_count": 4,
   "id": "e1611fd9",
   "metadata": {},
   "outputs": [],
   "source": [
    "def count_gates(qc: QuantumCircuit):\n",
    "    gate_count = { qubit: 0 for qubit in qc.qubits }\n",
    "    for gate in qc.data:\n",
    "        for qubit in gate.qubits:\n",
    "            gate_count[qubit] += 1\n",
    "    return gate_count\n",
    "\n",
    "def remove_idle_wires(qc: QuantumCircuit):\n",
    "    qc_out = qc.copy()\n",
    "    gate_count = count_gates(qc_out)\n",
    "    for qubit, count in gate_count.items():\n",
    "        if count == 0:\n",
    "            qc_out.qubits.remove(qubit)\n",
    "    return qc_out"
   ]
  },
  {
   "cell_type": "code",
   "execution_count": 5,
   "id": "7e7639e4",
   "metadata": {},
   "outputs": [
    {
     "data": {
      "image/png": "[encoded data removed]",
      "text/plain": [
       "<Figure size 287.294x200.667 with 1 Axes>"
      ]
     },
     "execution_count": 5,
     "metadata": {},
     "output_type": "execute_result"
    }
   ],
   "source": [
    "\n",
    "# Example circuits\n",
    "qc_ref = QuantumCircuit(2)\n",
    "qc_ref.h(0)\n",
    "\n",
    "qc_ref.cx(0, 1)\n",
    "\n",
    "\n",
    "sv_ref = Statevector.from_instruction(qc_ref)\n",
    "qc_ref.draw('mpl', idle_wires=True, fold=60)\n",
    "\n"
   ]
  },
  {
   "cell_type": "code",
   "execution_count": 6,
   "id": "ee0ec131",
   "metadata": {},
   "outputs": [],
   "source": [
    "backend = FakeTorino()"
   ]
  },
  {
   "cell_type": "code",
   "execution_count": 7,
   "id": "0cea6385",
   "metadata": {},
   "outputs": [],
   "source": [
    "from qiskit import QuantumCircuit\n",
    "\n",
    "def copy_circuit_no_empty_lines(qc: QuantumCircuit):\n",
    "    # Step 1: Store instructions and track used wires\n",
    "    instructions = []\n",
    "    used_qubits = set()\n",
    "    used_clbits = set()\n",
    "\n",
    "    for instr, qargs, cargs in qc.data:\n",
    "        instructions.append((instr.copy(), qargs, cargs))\n",
    "        used_qubits.update(qargs)\n",
    "        used_clbits.update(cargs)\n",
    "\n",
    "    # Step 2: Sort wires by their index in the original circuit\n",
    "    used_qubits = sorted(used_qubits, key=lambda q: qc.qubits.index(q))\n",
    "    used_clbits = sorted(used_clbits, key=lambda c: qc.clbits.index(c))\n",
    "\n",
    "    # Step 3: Create new circuit with only used wires\n",
    "    qc_copy = QuantumCircuit(len(used_qubits), len(used_clbits))\n",
    "\n",
    "    # Create mapping from old wires to new wires\n",
    "    qubit_map = {old_q: qc_copy.qubits[i] for i, old_q in enumerate(used_qubits)}\n",
    "    clbit_map = {old_c: qc_copy.clbits[i] for i, old_c in enumerate(used_clbits)}\n",
    "\n",
    "    # Step 4: Append instructions to new circuit\n",
    "    for instr, qargs, cargs in instructions:\n",
    "        mapped_qargs = [qubit_map[q] for q in qargs]\n",
    "        mapped_cargs = [clbit_map[c] for c in cargs]\n",
    "        qc_copy.append(instr, mapped_qargs, mapped_cargs)\n",
    "\n",
    "    return qc_copy\n"
   ]
  },
  {
   "cell_type": "code",
   "execution_count": 8,
   "id": "355731dd",
   "metadata": {},
   "outputs": [
    {
     "name": "stderr",
     "output_type": "stream",
     "text": [
      "/var/folders/_k/qjlhflx94s97dht_ggl_nt080000gn/T/ipykernel_77625/3336136814.py:9: DeprecationWarning: Treating CircuitInstruction as an iterable is deprecated legacy behavior since Qiskit 1.2, and will be removed in Qiskit 3.0. Instead, use the `operation`, `qubits` and `clbits` named attributes.\n",
      "  for instr, qargs, cargs in qc.data:\n"
     ]
    },
    {
     "data": {
      "image/png": "[encoded data removed]",
      "text/plain": [
       "<Figure size 705.35x200.667 with 1 Axes>"
      ]
     },
     "execution_count": 8,
     "metadata": {},
     "output_type": "execute_result"
    }
   ],
   "source": [
    "seed = 42\n",
    "\n",
    "# Make a pass manager with our desired optimization level and backend\n",
    "pm_lv0 = generate_preset_pass_manager(backend=backend, optimization_level=1, seed_transpiler=seed)\n",
    "\n",
    "# Run for our random circuit\n",
    "tr_lv0 = pm_lv0.run(qc_ref)\n",
    "phase = tr_lv0.global_phase\n",
    "tr_lv0 = copy_circuit_no_empty_lines(tr_lv0)\n",
    "\n",
    "# uncomment the next line to draw circuit\n",
    "tr_lv0.draw('mpl', idle_wires=True, fold=60)"
   ]
  },
  {
   "cell_type": "code",
   "execution_count": 9,
   "id": "a261880d",
   "metadata": {},
   "outputs": [
    {
     "name": "stdout",
     "output_type": "stream",
     "text": [
      "Transpiled circuit matches reference statevector: True\n"
     ]
    }
   ],
   "source": [
    "sv_transpiled = Statevector.from_instruction(tr_lv0)\n",
    "# Check if the transpiled circuit matches the reference statevector\n",
    "print(\"Transpiled circuit matches reference statevector:\", sv_transpiled.equiv(sv_ref))"
   ]
  },
  {
   "cell_type": "code",
   "execution_count": 10,
   "id": "171a1995",
   "metadata": {},
   "outputs": [
    {
     "name": "stdout",
     "output_type": "stream",
     "text": [
      "Statevector([0.70710678+0.j, 0.        +0.j, 0.        +0.j,\n",
      "             0.70710678+0.j],\n",
      "            dims=(2, 2))\n"
     ]
    }
   ],
   "source": [
    "sv_ref"
   ]
  },
  {
   "cell_type": "code",
   "execution_count": 11,
   "id": "9cc324d4",
   "metadata": {},
   "outputs": [],
   "source": [
    "\n",
    "def parallel_constant(v1, v2, tol=1e-9):\n",
    "    v1 = np.asarray(v1, dtype=float)\n",
    "    v2 = np.asarray(v2, dtype=float)\n",
    "    \n",
    "    # Both zero vector case\n",
    "    if np.allclose(v1, 0, atol=tol) and np.allclose(v2, 0, atol=tol):\n",
    "        return None  # undefined constant for zero-zero\n",
    "    \n",
    "    # If one is zero vector, cannot define a constant\n",
    "    if np.allclose(v1, 0, atol=tol) or np.allclose(v2, 0, atol=tol):\n",
    "        return None\n",
    "    \n",
    "    # Avoid division by zero: compute ratio where v2 is nonzero\n",
    "    nonzero_mask = np.abs(v2) > tol\n",
    "    if not np.any(nonzero_mask):\n",
    "        return None\n",
    "    \n",
    "    ratios = v1[nonzero_mask] / v2[nonzero_mask]\n",
    "    \n",
    "    # Check if all ratios are (almost) equal\n",
    "    if np.allclose(ratios, ratios[0], atol=tol):\n",
    "        return ratios[0]  # the parallel constant\n",
    "    else:\n",
    "        return None  # not parallel"
   ]
  },
  {
   "cell_type": "code",
   "execution_count": 12,
   "id": "2767415a",
   "metadata": {},
   "outputs": [
    {
     "name": "stdout",
     "output_type": "stream",
     "text": [
      "[ 7.07106781e-01+2.00513608e-15j -1.47476458e-31+5.55111512e-17j\n",
      " -1.40037088e-31+5.55111512e-17j  7.07106781e-01+1.91037261e-15j]\n",
      "[0.70710678+0.j 0.        +0.j 0.        +0.j 0.70710678+0.j]\n"
     ]
    },
    {
     "name": "stderr",
     "output_type": "stream",
     "text": [
      "/Users/bigman/Documents/Programming/qiskit_hackathon/.venv/lib/python3.12/site-packages/qiskit/quantum_info/states/statevector.py:118: ComplexWarning: Casting complex values to real discards the imaginary part\n",
      "  return np.array(self.data, dtype=dtype, copy=copy)\n",
      "/var/folders/_k/qjlhflx94s97dht_ggl_nt080000gn/T/ipykernel_77625/1916958806.py:3: ComplexWarning: Casting complex values to real discards the imaginary part\n",
      "  v2 = np.asarray(v2, dtype=float)\n"
     ]
    }
   ],
   "source": [
    "from math import exp, sin, cos\n",
    "import numpy as np\n",
    "# convert sv_transpiled to a numpy vector\n",
    "sv_transpiled = np.array(sv_transpiled)\n",
    "# Rotate by phase \n",
    "rotation = cos(phase) + 1j * sin(phase)\n",
    "rotated = sv_transpiled * rotation\n",
    "\n",
    "# check if vectors are parallel\n",
    "c = parallel_constant(sv_ref, rotated)\n",
    "\n",
    "print(rotated)\n",
    "print(np.array(sv_ref))\n",
    "\n",
    "# These two are equal! We did it!\n"
   ]
  },
  {
   "cell_type": "code",
   "execution_count": 14,
   "id": "688d2cc1",
   "metadata": {},
   "outputs": [
    {
     "name": "stdout",
     "output_type": "stream",
     "text": [
      "🔬 Starting ERFT for 2-qubit circuits...\n",
      "   - ε (error tolerance): 0.1\n",
      "   - δ (failure probability): 0.05\n",
      "   - m (required samples): 185\n",
      "\n",
      "🚀 Running 185 randomized trials...\n",
      "\n",
      "📊 Results:\n",
      "   - Total 'survival' counts: 185 / 185\n",
      "   - Estimated Fidelity (F_hat): 1.0000\n",
      "   - Decision Threshold (1 - ε): 0.9000\n",
      "   - Outcome: F_hat ≥ 1 - ε\n",
      "ERTF result: ✅ Equivalent (within ε)\n"
     ]
    }
   ],
   "source": [
    "from erft_quantum import erft\n",
    "\n",
    "EPSILON = 0.10  # 10% error tolerance\n",
    "DELTA = 0.05   # 5% chance of failure (95% confidence)\n",
    "seed = 0\n",
    "\n",
    "\n",
    "# Test ertf on the two circuits\n",
    "erft_result = erft(tr_lv0, qc_ref, epsilon=EPSILON, delta=DELTA, seed=seed)\n",
    "print(\"ERTF result:\", erft_result)\n",
    "\n",
    "\n"
   ]
  },
  {
   "cell_type": "code",
   "execution_count": null,
   "id": "160196cd",
   "metadata": {},
   "outputs": [],
   "source": []
  },
  {
   "cell_type": "code",
   "execution_count": null,
   "id": "dd9a71fb",
   "metadata": {},
   "outputs": [],
   "source": []
  }
 ],
 "metadata": {
  "kernelspec": {
   "display_name": ".venv",
   "language": "python",
   "name": "python3"
  },
  "language_info": {
   "codemirror_mode": {
    "name": "ipython",
    "version": 3
   },
   "file_extension": ".py",
   "mimetype": "text/x-python",
   "name": "python",
   "nbconvert_exporter": "python",
   "pygments_lexer": "ipython3",
   "version": "3.12.3"
  }
 },
 "nbformat": 4,
 "nbformat_minor": 5
}
